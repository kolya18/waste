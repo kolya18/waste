{
 "cells": [
  {
   "cell_type": "code",
   "execution_count": 7,
   "id": "508c4114",
   "metadata": {},
   "outputs": [],
   "source": [
    "import os\n",
    "import cv2\n",
    "import random\n",
    "import imgaug.augmenters as iaa\n",
    "from tqdm.auto import tqdm"
   ]
  },
  {
   "cell_type": "code",
   "execution_count": 8,
   "id": "4891f2ae",
   "metadata": {},
   "outputs": [],
   "source": [
    "base_path = 'test'\n",
    "# base_path = 'train'\n",
    "desired_images = 300\n",
    "# desired_images = 900"
   ]
  },
  {
   "cell_type": "code",
   "execution_count": 9,
   "id": "1615ff4e",
   "metadata": {},
   "outputs": [
    {
     "name": "stderr",
     "output_type": "stream",
     "text": [
      "100%|██████████| 180/180 [00:04<00:00, 36.88it/s]\n",
      "100%|██████████| 95/95 [00:03<00:00, 31.40it/s]\n",
      "100%|██████████| 95/95 [00:03<00:00, 26.32it/s]\n",
      "100%|██████████| 67/67 [00:01<00:00, 49.63it/s]\n",
      " 12%|█▏        | 4/34 [00:12<01:23,  2.78s/it]"
     ]
    },
    {
     "name": "stdout",
     "output_type": "stream",
     "text": [
      "Could not read image: test\\bulb\\bulb (108).jpg\n"
     ]
    },
    {
     "name": "stderr",
     "output_type": "stream",
     "text": []
    },
    {
     "name": "stdout",
     "output_type": "stream",
     "text": [
      "Could not read image: test\\bulb\\bulb (108).jpg\n"
     ]
    },
    {
     "name": "stderr",
     "output_type": "stream",
     "text": [
      "100%|██████████| 95/95 [00:04<00:00, 23.01it/s]\n",
      "100%|██████████| 91/91 [00:02<00:00, 33.65it/s]\n",
      "100%|██████████| 166/166 [00:03<00:00, 47.72it/s]\n",
      "100%|██████████| 204/204 [00:06<00:00, 32.23it/s]\n",
      "100%|██████████| 256/256 [00:04<00:00, 56.12it/s]\n",
      "100%|██████████| 89/89 [00:06<00:00, 13.57it/s]\n",
      "100%|██████████| 97/97 [00:04<00:00, 20.50it/s]\n",
      "100%|██████████| 99/99 [00:01<00:00, 90.05it/s]\n",
      "100%|██████████| 102/102 [00:03<00:00, 32.92it/s]\n",
      "100%|██████████| 91/91 [00:02<00:00, 44.28it/s]\n",
      "100%|██████████| 102/102 [00:02<00:00, 44.49it/s]\n",
      "100%|██████████| 221/221 [00:03<00:00, 68.53it/s]\n",
      "100%|██████████| 158/158 [00:04<00:00, 35.93it/s]\n",
      "100%|██████████| 100/100 [00:03<00:00, 26.53it/s]\n",
      "100%|██████████| 225/225 [00:05<00:00, 42.52it/s]\n",
      "100%|██████████| 90/90 [00:04<00:00, 21.18it/s]\n",
      "100%|██████████| 97/97 [00:02<00:00, 45.02it/s]\n",
      "100%|██████████| 81/81 [00:00<00:00, 89.47it/s]\n",
      "100%|██████████| 184/184 [00:02<00:00, 87.88it/s]\n",
      "100%|██████████| 81/81 [00:02<00:00, 37.42it/s]\n",
      "100%|██████████| 166/166 [00:04<00:00, 33.88it/s]\n",
      "100%|██████████| 94/94 [00:03<00:00, 27.09it/s]\n",
      "100%|██████████| 92/92 [00:02<00:00, 31.35it/s]\n",
      "100%|██████████| 191/191 [00:05<00:00, 36.91it/s]\n",
      "100%|██████████| 186/186 [00:06<00:00, 29.30it/s]\n",
      "100%|██████████| 266/266 [00:08<00:00, 31.17it/s]\n",
      "100%|██████████| 226/226 [00:04<00:00, 50.70it/s]\n",
      "100%|██████████| 84/84 [00:01<00:00, 46.25it/s]\n",
      "100%|██████████| 100/100 [00:02<00:00, 38.81it/s]\n",
      "100%|██████████| 34/34 [02:02<00:00,  3.60s/it]\n"
     ]
    }
   ],
   "source": [
    "# Переберите все подпапки в основной папке\n",
    "for folder_name in tqdm(os.listdir(base_path)):\n",
    "    folder_path = os.path.join(base_path, folder_name)\n",
    "    \n",
    "    # Если текущий элемент является папкой\n",
    "    if os.path.isdir(folder_path):\n",
    "        \n",
    "        # Подсчитайте количество изображений в текущей папке\n",
    "        num_images = len(os.listdir(folder_path))\n",
    "        \n",
    "        # Если количество изображений меньше желаемого количества\n",
    "        if num_images < desired_images:\n",
    "            \n",
    "            # Создайте аугментер\n",
    "            seq = iaa.Sequential([\n",
    "                iaa.Fliplr(0.5), # Отзеркалить изображение слева направо\n",
    "                iaa.Affine(rotate=(-30, 30)), # Повернуть изображение на случайный угол \n",
    "                # Small gaussian blur with random sigma between 0 and 0.5.\n",
    "                # But we only blur about 50% of all images.\n",
    "                iaa.Sometimes(0.1,iaa.GaussianBlur(sigma=(0, 3.0))),\n",
    "                # Strengthen or weaken the contrast in each image.\n",
    "                iaa.LinearContrast((0.75, 1.5)),\n",
    "                iaa.Crop(px=(0, 16)), # random crops\n",
    "                # Add gaussian noise.\n",
    "                # For 50% of all images, we sample the noise once per pixel.\n",
    "                # For the other 50% of all images, we sample the noise per pixel AND\n",
    "                # channel. This can change the color (not only brightness) of the\n",
    "                # pixels.\n",
    "                iaa.AdditiveGaussianNoise(loc=0, scale=(0.0, 0.05*255), per_channel=0.5),\n",
    "                # Apply affine transformations to each image.\n",
    "                # Scale/zoom them, translate/move them, rotate them and shear them.\n",
    "                iaa.Affine(scale={\"x\": (0.8, 1.2), \"y\": (0.8, 1.2)},\n",
    "                           translate_percent={\"x\": (-0.2, 0.2), \"y\": (-0.2, 0.2)},\n",
    "                           rotate=(-25, 25),\n",
    "                           shear=(-8, 8)\n",
    "                           )\n",
    "            ])\n",
    "            \n",
    "            # Переберите недостающее количество изображений\n",
    "            for i in tqdm(range(desired_images - num_images)):\n",
    "                \n",
    "                # Выберите случайное изображение из текущей папки\n",
    "                image_name = random.choice(os.listdir(folder_path))\n",
    "                image_path = os.path.join(folder_path, image_name)\n",
    "                \n",
    "                # Проверьте, что изображение прочитано корректно\n",
    "                image = cv2.imread(image_path)\n",
    "                if image is None:\n",
    "                    print(f\"Could not read image: {image_path}\")\n",
    "                    continue\n",
    "                \n",
    "                # Примените к изображению аугментацию\n",
    "                image_aug = seq(image=image)\n",
    "                \n",
    "                # Создайте новое имя файла\n",
    "                new_image_name = f\"{i+num_images+1}.jpg\"\n",
    "                new_image_path = os.path.join(folder_path, new_image_name)\n",
    "                \n",
    "                # Сохраните аугментированное изображение в текущей папке\n",
    "                cv2.imwrite(new_image_path, image_aug)"
   ]
  }
 ],
 "metadata": {
  "kernelspec": {
   "display_name": "Python 3 (ipykernel)",
   "language": "python",
   "name": "python3"
  },
  "language_info": {
   "codemirror_mode": {
    "name": "ipython",
    "version": 3
   },
   "file_extension": ".py",
   "mimetype": "text/x-python",
   "name": "python",
   "nbconvert_exporter": "python",
   "pygments_lexer": "ipython3",
   "version": "3.11.3"
  }
 },
 "nbformat": 4,
 "nbformat_minor": 5
}
